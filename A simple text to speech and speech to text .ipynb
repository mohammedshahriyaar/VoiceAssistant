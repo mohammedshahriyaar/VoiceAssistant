{
 "cells": [
  {
   "cell_type": "code",
   "execution_count": 9,
   "id": "0e40c036",
   "metadata": {},
   "outputs": [
    {
     "ename": "SyntaxError",
     "evalue": "invalid syntax (1502463434.py, line 1)",
     "output_type": "error",
     "traceback": [
      "\u001b[1;36m  Cell \u001b[1;32mIn[9], line 1\u001b[1;36m\u001b[0m\n\u001b[1;33m    pip install SpeechRecognition\u001b[0m\n\u001b[1;37m        ^\u001b[0m\n\u001b[1;31mSyntaxError\u001b[0m\u001b[1;31m:\u001b[0m invalid syntax\n"
     ]
    }
   ],
   "source": [
    "pip install SpeechRecognition\n",
    "\n"
   ]
  },
  {
   "cell_type": "code",
   "execution_count": 2,
   "id": "9648b202",
   "metadata": {},
   "outputs": [],
   "source": [
    "import speech_recognition as sr\n"
   ]
  },
  {
   "cell_type": "code",
   "execution_count": 3,
   "id": "0634fd14",
   "metadata": {},
   "outputs": [
    {
     "name": "stdout",
     "output_type": "stream",
     "text": [
      "Requirement already satisfied: pyaudio in d:\\python\\python311\\lib\\site-packages (0.2.13)\n",
      "Note: you may need to restart the kernel to use updated packages.\n"
     ]
    }
   ],
   "source": [
    "pip install pyaudio\n"
   ]
  },
  {
   "cell_type": "code",
   "execution_count": 4,
   "id": "4b325b82",
   "metadata": {},
   "outputs": [
    {
     "name": "stdout",
     "output_type": "stream",
     "text": [
      "Please speak\n",
      "hello hello mike testing 123 how are you mobile\n"
     ]
    }
   ],
   "source": [
    "# speech to text\n",
    "import pyaudio as pya\n",
    "rec= sr.Recognizer()\n",
    "\n",
    "with sr.Microphone(device_index=0) as source:\n",
    "    print(\"Please speak\")\n",
    "    audio = rec.listen(source)\n",
    "\n",
    "\n",
    "    \n",
    "try:\n",
    "    print(rec.recognize_google(audio,language=\"en\"))\n",
    "except sr.UnknownValueError:\n",
    "    print(\"Please speak in English\")\n",
    "except sr.RequestError as e:\n",
    "    print(\"Please speak clearly {0}\".format(e))\n",
    "    \n",
    "    "
   ]
  },
  {
   "cell_type": "code",
   "execution_count": 14,
   "id": "fedbcdde",
   "metadata": {},
   "outputs": [
    {
     "ename": "SyntaxError",
     "evalue": "invalid syntax (222593334.py, line 1)",
     "output_type": "error",
     "traceback": [
      "\u001b[1;36m  Cell \u001b[1;32mIn[14], line 1\u001b[1;36m\u001b[0m\n\u001b[1;33m    //text to speech\u001b[0m\n\u001b[1;37m    ^\u001b[0m\n\u001b[1;31mSyntaxError\u001b[0m\u001b[1;31m:\u001b[0m invalid syntax\n"
     ]
    }
   ],
   "source": [
    "//text to speech\n",
    "\n",
    "pip install gtts\n"
   ]
  },
  {
   "cell_type": "code",
   "execution_count": 7,
   "id": "0ebc9009",
   "metadata": {},
   "outputs": [
    {
     "name": "stdout",
     "output_type": "stream",
     "text": [
      "Requirement already satisfied: gtts in d:\\python\\python311\\lib\\site-packages (2.3.2)\n",
      "Requirement already satisfied: requests<3,>=2.27 in d:\\python\\python311\\lib\\site-packages (from gtts) (2.31.0)\n",
      "Requirement already satisfied: click<8.2,>=7.1 in d:\\python\\python311\\lib\\site-packages (from gtts) (8.1.3)\n",
      "Requirement already satisfied: colorama in d:\\python\\python311\\lib\\site-packages (from click<8.2,>=7.1->gtts) (0.4.6)\n",
      "Requirement already satisfied: charset-normalizer<4,>=2 in d:\\python\\python311\\lib\\site-packages (from requests<3,>=2.27->gtts) (3.1.0)\n",
      "Requirement already satisfied: idna<4,>=2.5 in d:\\python\\python311\\lib\\site-packages (from requests<3,>=2.27->gtts) (3.4)\n",
      "Requirement already satisfied: urllib3<3,>=1.21.1 in d:\\python\\python311\\lib\\site-packages (from requests<3,>=2.27->gtts) (2.0.3)\n",
      "Requirement already satisfied: certifi>=2017.4.17 in d:\\python\\python311\\lib\\site-packages (from requests<3,>=2.27->gtts) (2023.5.7)\n",
      "Note: you may need to restart the kernel to use updated packages.\n"
     ]
    }
   ],
   "source": [
    "pip install gtts\n"
   ]
  },
  {
   "cell_type": "code",
   "execution_count": 12,
   "id": "64ca33a3",
   "metadata": {},
   "outputs": [],
   "source": [
    "# importing required packages\n",
    "from gtts import gTTS\n",
    "from playsound import playsound\n"
   ]
  },
  {
   "cell_type": "code",
   "execution_count": 14,
   "id": "920f1468",
   "metadata": {},
   "outputs": [
    {
     "name": "stdout",
     "output_type": "stream",
     "text": [
      "hello\n"
     ]
    }
   ],
   "source": [
    "a=input()\n",
    "tts=gTTS(a,lang=\"en\",slow=False)\n",
    "tts.save(\"audio1.mp3\")\n",
    "playsound(\"audio1.mp3\")"
   ]
  },
  {
   "cell_type": "code",
   "execution_count": null,
   "id": "4112c3d2",
   "metadata": {},
   "outputs": [],
   "source": []
  }
 ],
 "metadata": {
  "kernelspec": {
   "display_name": "Python 3 (ipykernel)",
   "language": "python",
   "name": "python3"
  },
  "language_info": {
   "codemirror_mode": {
    "name": "ipython",
    "version": 3
   },
   "file_extension": ".py",
   "mimetype": "text/x-python",
   "name": "python",
   "nbconvert_exporter": "python",
   "pygments_lexer": "ipython3",
   "version": "3.11.1"
  }
 },
 "nbformat": 4,
 "nbformat_minor": 5
}
